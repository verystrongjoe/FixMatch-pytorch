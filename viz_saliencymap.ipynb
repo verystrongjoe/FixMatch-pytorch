{
 "cells": [
  {
   "cell_type": "code",
   "execution_count": 1,
   "metadata": {
    "collapsed": true
   },
   "outputs": [],
   "source": [
    "import numpy as np\n",
    "from PIL import Image as im\n",
    "from glob import glob\n",
    "from sklearn.preprocessing import StandardScaler, MinMaxScaler"
   ]
  },
  {
   "cell_type": "code",
   "execution_count": 3,
   "metadata": {},
   "outputs": [],
   "source": [
    "prop = 1.0\n",
    "outputs = glob(f'data/wm811k/unlabeled/train/-/*_{prop}.npy')"
   ]
  },
  {
   "cell_type": "code",
   "execution_count": 51,
   "metadata": {},
   "outputs": [],
   "source": [
    "# for n in outputs:\n",
    "#     img = np.load(n)\n",
    "#     print(\"{}, {}, {}\".format(img.min(), img.max(), img.mean()))"
   ]
  },
  {
   "cell_type": "code",
   "execution_count": 10,
   "metadata": {},
   "outputs": [
    {
     "data": {
      "image/png": "[encoded data removed]",
      "text/plain": [
       "<PIL.Image.Image image mode=L size=32x32>"
      ]
     },
     "execution_count": 10,
     "metadata": {},
     "output_type": "execute_result"
    }
   ],
   "source": [
    "img_saliency = np.load(\"data/wm811k/unlabeled/train/-/000035_saliency_0.05.npy\")\n",
    "img_saliency = im.fromarray((img_saliency*255).astype(np.uint8).squeeze())\n",
    "img_saliency"
   ]
  },
  {
   "cell_type": "code",
   "execution_count": 9,
   "metadata": {},
   "outputs": [
    {
     "data": {
      "image/png": "[encoded data removed]",
      "text/plain": [
       "<PIL.Image.Image image mode=L size=32x32>"
      ]
     },
     "execution_count": 9,
     "metadata": {},
     "output_type": "execute_result"
    }
   ],
   "source": [
    "img_saliency = np.load(\"data/wm811k/unlabeled/train/-/000035_saliency_0.1.npy\")\n",
    "img_saliency = im.fromarray((img_saliency*255).astype(np.uint8).squeeze())\n",
    "img_saliency"
   ]
  },
  {
   "cell_type": "code",
   "execution_count": 7,
   "metadata": {},
   "outputs": [
    {
     "data": {
      "image/png": "[encoded data removed]",
      "text/plain": [
       "<PIL.Image.Image image mode=L size=32x32>"
      ]
     },
     "execution_count": 7,
     "metadata": {},
     "output_type": "execute_result"
    }
   ],
   "source": [
    "img_saliency = np.load(\"data/wm811k/unlabeled/train/-/000035_saliency_0.25.npy\")\n",
    "img_saliency = im.fromarray((img_saliency*255).astype(np.uint8).squeeze())\n",
    "img_saliency"
   ]
  },
  {
   "cell_type": "code",
   "execution_count": 5,
   "metadata": {
    "collapsed": false,
    "pycharm": {
     "name": "#%%\n"
    }
   },
   "outputs": [
    {
     "data": {
      "image/png": "[encoded data removed]",
      "text/plain": [
       "<PIL.Image.Image image mode=L size=32x32>"
      ]
     },
     "execution_count": 5,
     "metadata": {},
     "output_type": "execute_result"
    }
   ],
   "source": [
    "img_saliency = np.load(\"data/wm811k/unlabeled/train/-/000035_saliency_0.5.npy\")\n",
    "img_saliency = im.fromarray((img_saliency*255).astype(np.uint8).squeeze())\n",
    "img_saliency"
   ]
  },
  {
   "cell_type": "code",
   "execution_count": 11,
   "metadata": {},
   "outputs": [
    {
     "ename": "FileNotFoundError",
     "evalue": "[Errno 2] No such file or directory: 'data/wm811k/unlabeled/train/-/000035_saliency_1.0.npy'",
     "output_type": "error",
     "traceback": [
      "\u001b[0;31m---------------------------------------------------------------------------\u001b[0m",
      "\u001b[0;31mFileNotFoundError\u001b[0m                         Traceback (most recent call last)",
      "Cell \u001b[0;32mIn[11], line 1\u001b[0m\n\u001b[0;32m----> 1\u001b[0m img_saliency \u001b[39m=\u001b[39m np\u001b[39m.\u001b[39;49mload(\u001b[39m\"\u001b[39;49m\u001b[39mdata/wm811k/unlabeled/train/-/000035_saliency_1.0.npy\u001b[39;49m\u001b[39m\"\u001b[39;49m)\n\u001b[1;32m      2\u001b[0m img_saliency \u001b[39m=\u001b[39m im\u001b[39m.\u001b[39mfromarray((img_saliency\u001b[39m*\u001b[39m\u001b[39m255\u001b[39m)\u001b[39m.\u001b[39mastype(np\u001b[39m.\u001b[39muint8)\u001b[39m.\u001b[39msqueeze())\n\u001b[1;32m      3\u001b[0m img_saliency\n",
      "File \u001b[0;32m~/anaconda3/envs/FixMatch-pytorch/lib/python3.8/site-packages/numpy/lib/npyio.py:405\u001b[0m, in \u001b[0;36mload\u001b[0;34m(file, mmap_mode, allow_pickle, fix_imports, encoding, max_header_size)\u001b[0m\n\u001b[1;32m    403\u001b[0m     own_fid \u001b[39m=\u001b[39m \u001b[39mFalse\u001b[39;00m\n\u001b[1;32m    404\u001b[0m \u001b[39melse\u001b[39;00m:\n\u001b[0;32m--> 405\u001b[0m     fid \u001b[39m=\u001b[39m stack\u001b[39m.\u001b[39menter_context(\u001b[39mopen\u001b[39;49m(os_fspath(file), \u001b[39m\"\u001b[39;49m\u001b[39mrb\u001b[39;49m\u001b[39m\"\u001b[39;49m))\n\u001b[1;32m    406\u001b[0m     own_fid \u001b[39m=\u001b[39m \u001b[39mTrue\u001b[39;00m\n\u001b[1;32m    408\u001b[0m \u001b[39m# Code to distinguish from NumPy binary files and pickles.\u001b[39;00m\n",
      "\u001b[0;31mFileNotFoundError\u001b[0m: [Errno 2] No such file or directory: 'data/wm811k/unlabeled/train/-/000035_saliency_1.0.npy'"
     ]
    }
   ],
   "source": [
    "img_saliency = np.load(\"data/wm811k/unlabeled/train/-/000035_saliency_1.0.npy\")\n",
    "img_saliency = im.fromarray((img_saliency*255).astype(np.uint8).squeeze())\n",
    "img_saliency"
   ]
  },
  {
   "cell_type": "code",
   "execution_count": 50,
   "metadata": {},
   "outputs": [
    {
     "data": {
      "text/plain": [
       "(0.095186464, 0.0, 1.0)"
      ]
     },
     "execution_count": 50,
     "metadata": {},
     "output_type": "execute_result"
    }
   ],
   "source": [
    "img_saliency_scaled.mean(), img_saliency_scaled.min(), img_saliency_scaled.max()"
   ]
  },
  {
   "cell_type": "code",
   "execution_count": 6,
   "metadata": {
    "collapsed": false,
    "pycharm": {
     "name": "#%%\n"
    }
   },
   "outputs": [],
   "source": [
    "image = im.fromarray((img_saliency*255).astype(np.uint8).squeeze())"
   ]
  },
  {
   "cell_type": "code",
   "execution_count": 7,
   "metadata": {},
   "outputs": [
    {
     "data": {
      "image/png": "[encoded data removed]",
      "text/plain": [
       "<PIL.Image.Image image mode=L size=96x96>"
      ]
     },
     "execution_count": 7,
     "metadata": {},
     "output_type": "execute_result"
    }
   ],
   "source": [
    "image"
   ]
  },
  {
   "cell_type": "code",
   "execution_count": 13,
   "metadata": {},
   "outputs": [
    {
     "data": {
      "text/plain": [
       "array([[-0.60367721, -0.55998917, -0.90377019, ..., -0.66757171,\n",
       "        -0.6397989 , -0.69464506],\n",
       "       [ 0.22422296, -0.45225578, -0.56813407, ..., -0.66757171,\n",
       "        -0.6397989 , -0.69464506],\n",
       "       [ 0.34249442, -0.77545595, -0.56813407, ..., -0.6017966 ,\n",
       "        -0.6397989 , -0.69464506],\n",
       "       ...,\n",
       "       [-0.60367721, -0.55998917, -0.73595213, ..., -0.64564667,\n",
       "        -0.6397989 , -0.69464506],\n",
       "       [-0.95849157, -0.88318933, -0.90377019, ..., -0.66757171,\n",
       "        -0.6397989 , -0.69464506],\n",
       "       [-0.95849157, -0.88318933, -0.90377019, ..., -0.66757171,\n",
       "        -0.6397989 , -0.69464506]])"
      ]
     },
     "execution_count": 13,
     "metadata": {},
     "output_type": "execute_result"
    }
   ],
   "source": [
    "im.fromarray((img_saliency*255).astype(np.uint8).squeeze())"
   ]
  },
  {
   "cell_type": "code",
   "execution_count": 40,
   "metadata": {
    "collapsed": false,
    "pycharm": {
     "name": "#%%\n"
    }
   },
   "outputs": [],
   "source": [
    "#image.save('test.jpg', format='JPEG')"
   ]
  },
  {
   "cell_type": "code",
   "execution_count": null,
   "metadata": {
    "collapsed": false,
    "pycharm": {
     "name": "#%%\n"
    }
   },
   "outputs": [],
   "source": []
  }
 ],
 "metadata": {
  "kernelspec": {
   "display_name": "FixMatch-pytorch",
   "language": "python",
   "name": "python3"
  },
  "language_info": {
   "codemirror_mode": {
    "name": "ipython",
    "version": 3
   },
   "file_extension": ".py",
   "mimetype": "text/x-python",
   "name": "python",
   "nbconvert_exporter": "python",
   "pygments_lexer": "ipython3",
   "version": "3.8.16"
  },
  "vscode": {
   "interpreter": {
    "hash": "cb53c0802739fd154d774e62d0b29b9ccc8cb7f294ad6ab93adf30cbeb9f192b"
   }
  }
 },
 "nbformat": 4,
 "nbformat_minor": 0
}
